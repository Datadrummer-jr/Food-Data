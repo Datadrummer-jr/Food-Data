{
 "cells": [
  {
   "cell_type": "code",
   "execution_count": 7,
   "metadata": {},
   "outputs": [
    {
     "name": "stdout",
     "output_type": "stream",
     "text": [
      "('Name', 'Bar Tropicana')\n",
      "('Type', 'Bar')\n",
      "('Phone_Number', '7279147')\n",
      "('Web_Page', 'Cabaret-Tropicana.com')\n",
      "('Ownership', 'Estatal')\n",
      "('Operating_Hours', {'Monday': ['12:00-22:00'], 'Tuesday': ['12:00-22:00'], 'Wendsday': ['12:00-22:00'], 'Thursday': ['12:00-22:00'], 'Friday': ['12:00-22:00'], 'Saturday': ['12:00-22:00'], 'Sunday': ['12:00-22:00']})\n",
      "('Location', {'District': 'Marianao', 'Address': '72A,Avenida 41', 'Coordinates': '3HVJ+R8W'})\n",
      "('Cuisine', 'null')\n",
      "('Menu', {'Appetizers': [None], 'Main_Courses': [None], 'Desserts': [None], 'Beverages': {'Aguas nacionales': {'Price': 100}, 'Agua saborizada ': {'Price': 100}, 'Agua Natural ': {'Price': 100}, 'Refresco': {'Price': 60}, 'Jugos de frutas en conserva ': {'Price': 100}, 'Jugos de frutas naturales': {'Price': 100}, 'Cervezas nacionales o importadas': {'Price': 200}, 'Cerveza Dispensada ': {'Price': 160}, 'Copa de vino de la casa': {'Price': 300}, 'Havana Club 3 aÃ±os ': {'Price': 100}, 'Especial Havana Club ': {'Price': 120}, 'Havana Club 7 aÃ±os ': {'Price': 320}, 'Havana Club Pacto Navio ': {'Price': 730}, 'Havana club seleccion de maestros': {'Price': 750}, 'Aguardiente Gobernador': {'Price': 14300}, 'Chiva Regal 12 AÃ±os': {'Price': 995}, 'Ballentinees finest': {'Price': 500}, 'J&B ': {'Price': 650}, 'Johnnie Walker etiqueta roja': {'Price': 550}, 'Jameson': {'Price': 650}, 'VAT': {'Price': 580}, 'Tequila 3 sombreros': {'Price': 300}, 'Vodka Igor': {'Price': 395}, 'Brandy NapoleÃ³n': {'Price': 190}, 'Cremas y licores (Cacao)': {'Price': 85}, 'Cremas y licores (CafÃ©)': {'Price': 85}, 'Cremas y licores(Menta)': {'Price': 85}, 'Cremas y licores(Marrasquino)': {'Price': 85}, 'Cremas y licores(Triple sec)': {'Price': 85}, 'Cremas y licores(Curacao azul)': {'Price': 85}, 'Cremas y licores(PiÃ±a)': {'Price': 85}, 'Daiquiri Natural': {'Price': 450}, 'Daiquiri Frapeado Natural': {'Price': 450}, 'Cuba libre': {'Price': 730}, 'cubata': {'Price': 700}, 'Daiquiri mulata': {'Price': 620}, 'Daiquiri Saborizado': {'Price': 450}, 'Gin cola': {'Price': 750}, 'Gin tonic': {'Price': 785}, 'Rom tonic': {'Price': 550}, 'Vodka cola': {'Price': 600}, 'Vodka tÃ³nica': {'Price': 650}, 'Whisky cola': {'Price': 500}, 'Tropicana special ': {'Price': 450}, 'Cocteles Internacionales': {'Price': 500}, 'CanchÃ¡nchara': {'Price': 450}, 'PiÃ±a colada ': {'Price': 450}}, 'most_sold': {'Dish': [None], 'Drink': ['Cerveza']}, 'least_sold': {'Dish': [None], 'Drink': ['Whiskey']}})\n",
      "('Other Info', {'Entertainment': ['Show'], 'Facilities': ['Reservaciones'], 'Payments_Options': {'Cash': 'Si', 'Credit_Card': 'Si', 'Mobile_Payment': 'Si'}, 'Accepted_Currencies': {'National_Currency': 'Si', 'US_Dollars': 'No', 'Euros': 'No', 'Others': 'No'}})\n"
     ]
    }
   ],
   "source": [
    "import json\n",
    "import os\n",
    "import numpy as np\n",
    "\n",
    "def import_json(a : str):\n",
    "    js = a\n",
    "    b = []\n",
    "    for file in os.listdir(js):\n",
    "        if file.endswith(\".json\"):\n",
    "            rute = os.path.join(js, file)\n",
    "            with open(rute) as j:\n",
    "                data = json.load(j)\n",
    "                b.append(data)\n",
    "    for i in b:\n",
    "        return(i)\n",
    "\n",
    "list = []\n",
    "for i in import_json(\"Marianao\").items():\n",
    "    print(i)\n",
    "\n",
    "\n",
    "\n",
    "\n"
   ]
  },
  {
   "cell_type": "code",
   "execution_count": 8,
   "metadata": {},
   "outputs": [
    {
     "name": "stdout",
     "output_type": "stream",
     "text": [
      "90\n",
      "['Menu', {'Appetizers': [None], 'Main_Courses': [None], 'Desserts': [None], 'Beverages': {'Aguas nacionales': {'Price': 100}, 'Agua saborizada ': {'Price': 100}, 'Agua Natural ': {'Price': 100}, 'Refresco': {'Price': 60}, 'Jugos de frutas en conserva ': {'Price': 100}, 'Jugos de frutas naturales': {'Price': 100}, 'Cervezas nacionales o importadas': {'Price': 200}, 'Cerveza Dispensada ': {'Price': 160}, 'Copa de vino de la casa': {'Price': 300}, 'Havana Club 3 aÃ±os ': {'Price': 100}, 'Especial Havana Club ': {'Price': 120}, 'Havana Club 7 aÃ±os ': {'Price': 320}, 'Havana Club Pacto Navio ': {'Price': 730}, 'Havana club seleccion de maestros': {'Price': 750}, 'Aguardiente Gobernador': {'Price': 14300}, 'Chiva Regal 12 AÃ±os': {'Price': 995}, 'Ballentinees finest': {'Price': 500}, 'J&B ': {'Price': 650}, 'Johnnie Walker etiqueta roja': {'Price': 550}, 'Jameson': {'Price': 650}, 'VAT': {'Price': 580}, 'Tequila 3 sombreros': {'Price': 300}, 'Vodka Igor': {'Price': 395}, 'Brandy NapoleÃ³n': {'Price': 190}, 'Cremas y licores (Cacao)': {'Price': 85}, 'Cremas y licores (CafÃ©)': {'Price': 85}, 'Cremas y licores(Menta)': {'Price': 85}, 'Cremas y licores(Marrasquino)': {'Price': 85}, 'Cremas y licores(Triple sec)': {'Price': 85}, 'Cremas y licores(Curacao azul)': {'Price': 85}, 'Cremas y licores(PiÃ±a)': {'Price': 85}, 'Daiquiri Natural': {'Price': 450}, 'Daiquiri Frapeado Natural': {'Price': 450}, 'Cuba libre': {'Price': 730}, 'cubata': {'Price': 700}, 'Daiquiri mulata': {'Price': 620}, 'Daiquiri Saborizado': {'Price': 450}, 'Gin cola': {'Price': 750}, 'Gin tonic': {'Price': 785}, 'Rom tonic': {'Price': 550}, 'Vodka cola': {'Price': 600}, 'Vodka tÃ³nica': {'Price': 650}, 'Whisky cola': {'Price': 500}, 'Tropicana special ': {'Price': 450}, 'Cocteles Internacionales': {'Price': 500}, 'CanchÃ¡nchara': {'Price': 450}, 'PiÃ±a colada ': {'Price': 450}}, 'most_sold': {'Dish': [None], 'Drink': ['Cerveza']}, 'least_sold': {'Dish': [None], 'Drink': ['Whiskey']}}, 'Menu', {'Breakfast': {'Egg': [None], 'Tortilla': [None], 'Hambuerguer': [None], 'Sandwich': [None], 'Bread': {'Pan con queso y embutido': {'Price': 250}}}, 'Appetizers': {'bolitas de carne': {'Price': 20}, 'Dados de queso': {'Price': 180}}, 'Main_Courses': {'Pasta': [None], 'Pizza': {'Pizza de queso': {'Price': 200}}, 'Pork': [None], 'Chicken': [None], 'Beef': [None], 'Sea': [None], 'Extras': {'Frijol negro': {'Price': 55}, 'Arroz blanco': {'Price': 70}}}, 'Desserts': [None], 'Beverages': {'agua saborizada': {'Price': 50}, 'agua natural': {'Price': 180}, 'Cerveza cristal': {'Price': 180}, 'Vino blanco entre Rio': {'Price': 160}, 'Vino blanco': {'Price': 160}, 'Cerveza': {'Price': 50}}, 'most_sold': {'Dish': ['Pizza'], 'Drink': ['Cerveza']}, 'least_sold': {'Dish': [None], 'Drink': ['agua saborizada']}}, 'Menu', {'Breakfast': {'Egg': [None], 'Tortilla': [None], 'Hambuerguer': {'Hamburguesa de pollo': {'Price': 1650}, 'Hamburguesa de cerdo': {'Price': 1795}, 'Hamburguesa de res': {'Price': 1945}}, 'Sandwich': {'Sandwich Ropa Vieja': {'Price': 760}, 'Sandwich de JamÃ³n y Queso': {'Price': 765}, 'Sandwich Cubano': {'Price': 1320}, 'Sandwich de AtÃºn y Cebolla': {'Price': 1945}}, 'Bread': [None]}, 'Appetizers': {'tostones': {'Price': 490}, 'Mariposita China': {'Price': 565}, 'Frituras de Malanga': {'Price': 590}, 'Bolitas de queso con miel y.mostaza': {'Price': 730}, 'Croquetas Colesterol 5.1': {'Price': 835}, 'Fajitas de Pollo': {'Price': 950}, 'Fajitas de Cerdo': {'Price': 1150}, 'CÃ³ctel de Camarones': {'Price': 1670}, 'Eperlan de pescado': {'Price': 950}, 'Ensalada FrÃ\\xada de JamÃ³n': {'Price': 835}, 'Ensalada FrÃ\\xada de Pollo': {'Price': 865}, 'Ensalada FrÃ\\xada de AtÃºn': {'Price': 995}, 'Ensalada FrÃ\\xada de Marisco': {'Price': 1125}, 'Crema de Queso': {'Price': 595}, 'Crema de Mariscos': {'Price': 920}, 'Garbanzo Frito': {'Price': 1670}, 'Tacos de Pollo': {'Price': 1260}, 'Tacos de Cerdo': {'Price': 1670}, 'Tacos de Res': {'Price': 1925}, 'Tacos de Marineros': {'Price': 2330}, 'Tabla colesterol': {'Price': 3320}}, 'Main_Courses': {'Tamal estilo colesterol': {'Price': 1925}, 'Pasta': {'Espaguetis napolitanos ': {'Price': 925}, 'Espaguetis con JamÃ³n ': {'Price': 1145}, 'Espaguetis a la BoloÃ±esa ': {'Price': 1800}, 'Espaguetis al Pesto': {'Price': 1265}, 'Espaguetis Carbonara ': {'Price': 2475}, 'Espaguetis con frutos de Mar': {'Price': 3750}, 'LasaÃ±a boloÃ±esa ': {'Price': 2245}}, 'Pizza': {'Pizza Margarita 5.1 ': {'Price': 1930}, 'Pizza de JamÃ³n': {'Price': 2115}, 'Pizza hawaiana': {'Price': 2215}, 'Pizza de Bacon, Pepperoni y JamÃ³n Serrano': {'Price': 2845}, 'Pizza Campesina': {'Price': 2645}, 'Pizza Marinera': {'Price': 3020}}, 'Pork': {'Masa de Cerdo Frita': {'Price': 2725}, 'Bistec Uruguayo ': {'Price': 2995}, 'Chuleta de Cerdo en Salsa Agridulce': {'Price': 3200}}, 'Chicken': {'Bistec Suprema ': {'Price': 2460}}, 'Beef': {'Ropa Vieja Res': {'Price': 2190}, 'vaca frita': {'Price': 2190}, 'Brocheta Mixta': {'Price': 2600}}, 'Sea': {'Enchilado de Cangrejo': {'Price': 1005}, 'Enchilado de Langosta': {'Price': 3030}, 'Mariscada estelares 5.1': {'Price': 3800}, 'Pescado Enchilado': {'Price': 2600}, 'Filete de Pescado Grille': {'Price': 3625}, 'Filete de Pescado Canciller ': {'Price': 3675}, 'Arroz con Artistage ': {'Price': 2800}}, 'Extras': [None]}, 'Desserts': {'Churros con leche condensada ': {'Price': 300}, 'Tocinillo': {'Price': 300}, 'Sunday': {'Price': 470}, 'Churros acompaÃ±ado de chocolate caliente': {'Price': 700}}, 'Beverages': {'Base chelada': {'Price': 170}, 'Base Michelada': {'Price': 220}, 'Caipiroska': {'Price': 495}, 'CaipiriÃ±a': {'Price': 495}, 'Cubata': {'Price': 550}, 'Cuba Libre': {'Price': 550}, 'Daikiri Floridita': {'Price': 600}, 'Tinto Verano': {'Price': 600}, 'GynTonic': {'Price': 650}, 'Canchanchara': {'Price': 660}, 'PiÃ±a colada': {'Price': 660}, 'Mojito': {'Price': 720}, 'SangrÃ\\xada Especial 5.1': {'Price': 720}, 'CafÃ© express': {'Price': 250}, 'frapuccino': {'Price': 450}, 'Agua Mineral': {'Price': 190}, 'Jugos de frutas': {'Price': 300}, 'Jugos de cajita': {'Price': 340}, 'batidos de frutas': {'Price': 495}, 'Malta': {'Price': 420}, 'Malteada': {'Price': 545}, 'Refresco de lata': {'Price': 350}, 'Refresco pepsi': {'Price': 420}, 'Refresco Seven Up': {'Price': 420}, 'Suero de helado': {'Price': 610}, 'energizante': {'Price': 360}, 'Cerveza Nacional': {'Price': 480}, 'Cerveza Importada': {'Price': 380}}, 'most_sold': {'Dish': ['ropa vieja', 'chuleta'], 'Drink': ['cerveza']}, 'least_sold': {'Dish': ['brocheta'], 'Drink': [None]}}, 'Menu', {'Appetizers': {'Croquetas de la casa': {'Price': 400}, 'Coctel de camaron': {'Price': 650}, 'Picadera el toro bravo': {'Price': 1700}}, 'Main_Courses': {'Pasta': {'Espaguetis': {'Price': 700}}, 'Pizza': {'pizza de queso blanco': {'Price': 400}, 'pizza de queso gouda': {'Price': 680}}, 'Pork': [None], 'Chicken': {'Pollo chiflado': {'Price': 1200}, 'Fajitas de pollo': {'Price': 750}}, 'Beef': [None], 'Sea': [None], 'Extras': {'Queso': {'Price': 200}, 'Jamon': {'Price': 150}, 'Chorizo': {'Price': 150}, 'Cebolla': {'Price': 150}, 'PiÃ±a': {'Price': 150}, 'Aceituna': {'Price': 200}, 'Queso gouda': {'Price': 500}, 'atun': {'Price': 300}}}, 'Desserts': {'Suero de helado': {'Price': 400}}, 'Beverages': [None], 'most_sold': {'Dish': ['Pollo chiflado', 'papas fritas'], 'Drink': ['Cerveza']}, 'least_sold': {'Dish': ['Coctel de camaron'], 'Drink': [None]}}, 'Menu', {'Breakfast': {'Tortilla': [None], 'Hambuerguer': {'Hamburguesa': {'Price': 400}, 'Hamburguesa yuya': {'Price': 900}}, 'Sandwich': [None], 'Bread': {'Pan con jamon': {'Price': 350}, 'Pan con perro': {'Price': 280}}}, 'Appetizers': {'Superpicadera': {'Price': 2500}, 'Tostones rellenos': {'Price': 600}, 'Frituras de malanga': {'Price': 500}, 'Papas fritas': {'Price': 500}, 'Croquetas': {'Price': 600}}, 'Main_Courses': {'Pasta': {'Spaguettis con queso gouda': {'Price': 700}, 'Spaguettis doble queso': {'Price': 1000}}, 'Pizza': {'Pizza napolitana': {'Price': 1000}, 'Pizza doble queso': {'Price': 1300}, 'Pizza de jamon': {'Price': 1350}}, 'Pork': [None], 'Chicken': {'Fajitas de pollo con papa': {'Price': 900}}, 'Beef': [None], 'Sea': [None], 'Extras': {'Jamon': {'Price': 260}, 'Queso': {'Price': 260}, 'Salami': {'Price': 200}}, 'Desserts': {'Helados gusto': {'Price': 1000}}, 'Beverages': {'Refrescos Importados': {'Price': 250}, 'Cervezas importadas': {'Price': 250}, 'jugo de lata': {'Price': 280}, 'jugos caja': {'Price': 650}, 'Malta Santa Isabel': {'Price': 280}, 'Cerveza Cubelazo': {'Price': 2700}, 'Termo de cerveza': {'Price': 2000}}, 'most_sold': {'Dish': ['Espaguetti'], 'Drink': ['Cerveza']}, 'least_sold': {'Dish': [None], 'Drink': ['Cerveza importada']}}}, 'Menu', {'Breakfast': {'Egg': [None], 'Tortilla': [None], 'Hambuerguer': {'Super Hamburguesa Tatico': {'Price': 900}, 'Hamburguesa Tatico': {'Price': 750}, 'Super hamburguesa queso': {'Price': 800}, 'Hamburguesa queso': {'Price': 650}, 'Super hamburguesa sencilla': {'Price': 700}, 'Hamburguesa sencilla': {'Price': 600}}, 'Sandwich': {'Sandwich Tatico': {'Price': 650}}, 'Bread': {'Bocadito de atun': {'Price': 600}, 'Pan con lechon': {'Price': 650}, 'Pan con croqueta': {'Price': 240}}}, 'Appetizers': {'Picadera Tatico': {'Price': 2800}, 'Entremes surtido': {'Price': 800}, 'Tostones rellenos': {'Price': 800}, 'Bolitas de queso': {'Price': 800}, 'Bolitas de carne': {'Price': 800}, 'Croquetas caseras': {'Price': 800}}, 'Main_Courses': {'Pasta': {'LasagÃ±a': {'Price': 1250}}, 'Pizza': {'Pizza Tatico': {'Price': 1200}, 'Pizza mixta': {'Price': 680}, 'pizza hawaiana': {'Price': 680}, 'pizza jamon': {'Price': 680}, 'pizza de queso': {'Price': 680}}, 'Pork': {'Taco de cerdo': {'Price': 650}}, 'Chicken': {'Pollo al carbon': {'Price': 1200}}, 'Beef': {'Taco de carne': {'Price': 800}}, 'Sea': {'Taco de atun': {'Price': 800}}, 'Extras': ['Arroz blanco', 'frijoles', 'Arroz moro'], 'Desserts': [None], 'Beverages': [None], 'most_sold': {'Dish': ['Bistec de cerdo'], 'Drink': ['Cerveza']}, 'least_sold': {'Dish': ['Higado'], 'Drink': [None]}}}, 'Menu', {'Breakfast': {'Egg': [None], 'Tortilla': [None], 'Hambuerguer': {'Hamburguesa clasica': {'Price': 400}, 'Hamburguesa de queso': {'Price': 600}, 'Hamburguesa de jamon': {'Price': 550}, 'Hamburguesas jamon y queso': {'Price': 700}}, 'Sandwich': [None], 'Bread': [None]}, 'Appetizers': {'Papas fritas': {'Price': 650}, 'Croquetas': {'Price': 550}, 'Fritura de malanga': {'Price': 550}, 'Tostones rellenos': {'Price': 650}, 'Ensalada fria de jamon': {'Price': 800}, 'Ensalada fria de atun': {'Price': 900}, 'Fajitas de Pechuga salteada': {'Price': 1200}, 'Fajitas de Pechuga empanada': {'Price': 1450}, 'Fajitas de Cerdo salteadas': {'Price': 1300}, 'Fajitas de cerdo empanada': {'Price': 1350}, 'Eperlan': {'Price': 1350}, 'Coctel de camarones': {'Price': 2100}}, 'Main_Courses': {'Taco de cerdo': {'Price': 1200}, 'Taco de camaron': {'Price': 1400}, 'taco de pollo': {'Price': 1100}, 'taco de res': {'Price': 1300}, 'Pasta': {'Crema de queso': {'Price': 800}, 'LasagÃ±a BoloÃ±esa': {'Price': 1700}, 'Espaguettis napolitano': {'Price': 700}}, 'Pizza': {'Pizzas Napolitanas, 32 cm': {'Price': 750}, 'Pizzas jamon': {'Price': 1100}, 'Pizzas BacÃ³n': {'Price': 1650}, 'Pizzas Pimiento': {'Price': 1050}, 'Pizzas Cebolla': {'Price': 950}, 'Pizzas Hawaiana': {'Price': 1350}, 'Pizzas AtÃºn': {'Price': 1650}, 'Pizzas CamarÃ³n': {'Price': 1350}, 'Pizzas Ropa Vieja': {'Price': 1500}, 'Pizzas De Chorizo': {'Price': 1100}, 'Pizzas MM': {'Price': 1800}}, 'Pork': {'Bistec de Cerdo Grille': {'Price': 1400}, 'Cerdo Bistec Empanizado': {'Price': 1600}, 'Bistec de Cerdo Uruguayo': {'Price': 1950}, 'Masa de Cerdo Salteada': {'Price': 1350}, 'Lomo de Cerdo': {'Price': 1500}, 'Fricase de Cerdo ': {'Price': 1400}}, 'Chicken': {'Bistec de Pollo Gordon Blue': {'Price': 1900}, 'Bistec de Pechuga Gordon Blue': {'Price': 1900}, 'Pechuga de Pollo Grille': {'Price': 1500}, 'Pechuga de Pollo Empanada': {'Price': 1400}}, 'Beef': {'Vaca Frita': {'Price': 1900}, 'Ropa Vieja': {'Price': 1900}}, 'Sea': {'Pescado Grille': {'Price': 1500}, 'Pescado Empanizado': {'Price': 1900}, 'Enchilado de CamarÃ³n': {'Price': 1400}, 'CamarÃ³n al Ajillo': {'Price': 1700}, 'Camaron Empanado': {'Price': 2000}, 'Canciller 190Grs': {'Price': 2000}, 'Langosta': {'Price': 2100}, 'Cazuela de mariscos': {'Price': 2100}, 'Canciller 180 Grs': {'Price': 2000}}, 'Extras': {'Arroz Blanco': {'Price': 200}, 'Arroz CongrÃ\\xad': {'Price': 300}, 'Arroz Frito': {'Price': 1550}, 'Arroz Imperial': {'Price': 1650}, 'Paella': {'Price': 2100}, 'Arroz frito de cerdo,pollo y mejillon': {'Price': 1450}}}, 'Desserts': {'Helado CID': {'Price': 850}}, 'Beverages': {'agua': {'Price': 130}, 'Refresco Santa': {'Price': 200}, 'Sprite': {'Price': 450}, 'Santa isabel': {'Price': 250}, 'Energizante': {'Price': 260}, 'Cristal V': {'Price': 245}, 'Cristal B': {'Price': 200}, 'Bucanero': {'Price': 240}, 'Jugo Lata': {'Price': 265}}, 'most_sold': {'Dish': ['Casuela de mariscos', 'Cerdo Grille'], 'Drink': ['Cerveza', 'Refresco']}, 'least_sold': {'Dish': ['Vaca frita'], 'Drink': [None]}}, 'Menu', {'Breakfast': {'Egg': [None], 'Tortilla': [None], 'Hambuerguer': [None], 'Sandwich': {'Sandwich de un agrego': {'Price': 230}, 'Sandwich de dos agregos': {'Price': 300}}, 'Bread': [None]}, 'Appetizers': {'Picadera de la casa': {'Price': 650}, 'Entremes de embutido y queso': {'Price': 400}, 'Tacos mexicanos de pollo': {'Price': 700}, 'Tacos mexicanos de cerdo': {'Price': 1400}, 'sopa del dia': {'Price': 125}, 'Croquetas': {'Price': 250}, 'Crema aurora': {'Price': 350}, 'Crema virginia': {'Price': 480}, 'Crema de calabaza con queso': {'Price': 400}, 'Eperlan de pescado': {'Price': 600}, 'Fajitas de pollo': {'Price': 500}}, 'Main_Courses': {'Pasta': {'Pata napolitana': {'Price': 500}}, 'Pizza': {'Pizza napolitana': {'Price': 500}, 'Pizza campesina': {'Price': 1200}, 'Pizza especial rodney (rellena con queso)': {'Price': 800}, 'Pizza especial rodney (rellena con embutido)': {'Price': 900}, 'Pizza super especial rodney (rellena con queso y varios embutidos)': {'Price': 1200}}, 'Pork': {'Lonjas de cerdo asada': {'Price': 2000}, 'fricase de cerdo': {'Price': 2300}, 'Bistec de cerdo grille': {'Price': 1800}}, 'Chicken': {'Pollo asado': {'Price': 850}, 'Pollo frito': {'Price': 900}, 'Pollo deshuesado': {'Price': 900}}, 'Beef': {'Filete migÃ±on': {'Price': 3000}, 'Steack de res': {'Price': 1400}}, 'Sea': {'Filete de pescado a la plancha': {'Price': 1500}, 'Filete de pescado gratinado con queso': {'Price': 1750}, 'Filete de pescado canciller': {'Price': 2000}, 'Langosta a la plancha': {'Price': 1800}, 'Langosta enchilada': {'Price': 1900}}, 'Extras': {'Arroz Rodney': {'Price': 780}, 'Filete bacalao a la plancha': {'Price': 250}, 'Arroz blanco': {'Price': 120}, 'Ensalada de vegetales': {'Price': 120}}}, 'Desserts': [None], 'Beverages': [None], 'most_sold': {'Dish': ['Cerdo'], 'Drink': [None]}, 'least_sold': {'Dish': ['Pescado', 'Marisco'], 'Drink': [None]}}, 'Menu', {'Breakfast': {'Egg': [None], 'Tortilla': [None], 'Hambuerguer': {'Super hamburguesa': {'Price': 560}}, 'Sandwich': [None], 'Bread': {'Pan con jamon y queso': {'Price': 280}}}, 'Appetizers': {'Tostones': {'Price': 350}, 'Tostones rellenos': {'Price': 450}, 'Crema de queso': {'Price': 450}, 'Crema aurora': {'Price': 450}, 'Crema de jamon': {'Price': 450}, 'Consome': {'Price': 450}, 'Eperlan': {'Price': 500}, 'Croquetas': {'Price': 500}, 'Picadera de la casa': {'Price': 100}}, 'Main_Courses': {'Pasta': {'Espaguettis a la carbonara': {'Price': 750}, 'Espaguettis queso gouda': {'Price': 650}}, 'Pizza': {'Pizza de queso gouda': {'Price': 750}, 'Pizza Hawaiana': {'Price': 800}, 'Pizza tropicana': {'Price': 950}}, 'Pork': {'Bistec de cerdo': {'Price': 1300}, 'Bistec de cerdo a la milanesa': {'Price': 1800}}, 'Chicken': {'Bistec de pollo': {'Price': 1000}, 'Pollo frito': {'Price': 1000}, 'Pollo a la milanesa': {'Price': 1500}}, 'Beef': {'Ropa vieja': {'Price': 1550}}, 'Sea': {'Canciller': {'Price': 2500}, 'Pescado entero': {'Price': 2000}, 'Rueda de atun': {'Price': 1700}, 'Camarones': {'Price': 1700}, 'Filete de pescado': {'Price': 1500}}, 'Extras': {'Arroz frito': {'Price': 700}}}, 'Desserts': {'Helado gusto 1L': {'Price': 1000}}, 'Beverages': [None], 'most_sold': {'Dish': ['Bistec de cerdo'], 'Drink': ['Cerveza']}, 'least_sold': {'Dish': ['Mariscos'], 'Drink': [None]}}]\n",
      "{'Appetizers': [None], 'Main_Courses': [None], 'Desserts': [None], 'Beverages': {'Aguas nacionales': {'Price': 100}, 'Agua saborizada ': {'Price': 100}, 'Agua Natural ': {'Price': 100}, 'Refresco': {'Price': 60}, 'Jugos de frutas en conserva ': {'Price': 100}, 'Jugos de frutas naturales': {'Price': 100}, 'Cervezas nacionales o importadas': {'Price': 200}, 'Cerveza Dispensada ': {'Price': 160}, 'Copa de vino de la casa': {'Price': 300}, 'Havana Club 3 aÃ±os ': {'Price': 100}, 'Especial Havana Club ': {'Price': 120}, 'Havana Club 7 aÃ±os ': {'Price': 320}, 'Havana Club Pacto Navio ': {'Price': 730}, 'Havana club seleccion de maestros': {'Price': 750}, 'Aguardiente Gobernador': {'Price': 14300}, 'Chiva Regal 12 AÃ±os': {'Price': 995}, 'Ballentinees finest': {'Price': 500}, 'J&B ': {'Price': 650}, 'Johnnie Walker etiqueta roja': {'Price': 550}, 'Jameson': {'Price': 650}, 'VAT': {'Price': 580}, 'Tequila 3 sombreros': {'Price': 300}, 'Vodka Igor': {'Price': 395}, 'Brandy NapoleÃ³n': {'Price': 190}, 'Cremas y licores (Cacao)': {'Price': 85}, 'Cremas y licores (CafÃ©)': {'Price': 85}, 'Cremas y licores(Menta)': {'Price': 85}, 'Cremas y licores(Marrasquino)': {'Price': 85}, 'Cremas y licores(Triple sec)': {'Price': 85}, 'Cremas y licores(Curacao azul)': {'Price': 85}, 'Cremas y licores(PiÃ±a)': {'Price': 85}, 'Daiquiri Natural': {'Price': 450}, 'Daiquiri Frapeado Natural': {'Price': 450}, 'Cuba libre': {'Price': 730}, 'cubata': {'Price': 700}, 'Daiquiri mulata': {'Price': 620}, 'Daiquiri Saborizado': {'Price': 450}, 'Gin cola': {'Price': 750}, 'Gin tonic': {'Price': 785}, 'Rom tonic': {'Price': 550}, 'Vodka cola': {'Price': 600}, 'Vodka tÃ³nica': {'Price': 650}, 'Whisky cola': {'Price': 500}, 'Tropicana special ': {'Price': 450}, 'Cocteles Internacionales': {'Price': 500}, 'CanchÃ¡nchara': {'Price': 450}, 'PiÃ±a colada ': {'Price': 450}}, 'most_sold': {'Dish': [None], 'Drink': ['Cerveza']}, 'least_sold': {'Dish': [None], 'Drink': ['Whiskey']}}\n",
      "{'Breakfast': {'Egg': [None], 'Tortilla': [None], 'Hambuerguer': [None], 'Sandwich': [None], 'Bread': {'Pan con queso y embutido': {'Price': 250}}}, 'Appetizers': {'bolitas de carne': {'Price': 20}, 'Dados de queso': {'Price': 180}}, 'Main_Courses': {'Pasta': [None], 'Pizza': {'Pizza de queso': {'Price': 200}}, 'Pork': [None], 'Chicken': [None], 'Beef': [None], 'Sea': [None], 'Extras': {'Frijol negro': {'Price': 55}, 'Arroz blanco': {'Price': 70}}}, 'Desserts': [None], 'Beverages': {'agua saborizada': {'Price': 50}, 'agua natural': {'Price': 180}, 'Cerveza cristal': {'Price': 180}, 'Vino blanco entre Rio': {'Price': 160}, 'Vino blanco': {'Price': 160}, 'Cerveza': {'Price': 50}}, 'most_sold': {'Dish': ['Pizza'], 'Drink': ['Cerveza']}, 'least_sold': {'Dish': [None], 'Drink': ['agua saborizada']}}\n",
      "{'Breakfast': {'Egg': [None], 'Tortilla': [None], 'Hambuerguer': {'Hamburguesa de pollo': {'Price': 1650}, 'Hamburguesa de cerdo': {'Price': 1795}, 'Hamburguesa de res': {'Price': 1945}}, 'Sandwich': {'Sandwich Ropa Vieja': {'Price': 760}, 'Sandwich de JamÃ³n y Queso': {'Price': 765}, 'Sandwich Cubano': {'Price': 1320}, 'Sandwich de AtÃºn y Cebolla': {'Price': 1945}}, 'Bread': [None]}, 'Appetizers': {'tostones': {'Price': 490}, 'Mariposita China': {'Price': 565}, 'Frituras de Malanga': {'Price': 590}, 'Bolitas de queso con miel y.mostaza': {'Price': 730}, 'Croquetas Colesterol 5.1': {'Price': 835}, 'Fajitas de Pollo': {'Price': 950}, 'Fajitas de Cerdo': {'Price': 1150}, 'CÃ³ctel de Camarones': {'Price': 1670}, 'Eperlan de pescado': {'Price': 950}, 'Ensalada FrÃ\\xada de JamÃ³n': {'Price': 835}, 'Ensalada FrÃ\\xada de Pollo': {'Price': 865}, 'Ensalada FrÃ\\xada de AtÃºn': {'Price': 995}, 'Ensalada FrÃ\\xada de Marisco': {'Price': 1125}, 'Crema de Queso': {'Price': 595}, 'Crema de Mariscos': {'Price': 920}, 'Garbanzo Frito': {'Price': 1670}, 'Tacos de Pollo': {'Price': 1260}, 'Tacos de Cerdo': {'Price': 1670}, 'Tacos de Res': {'Price': 1925}, 'Tacos de Marineros': {'Price': 2330}, 'Tabla colesterol': {'Price': 3320}}, 'Main_Courses': {'Tamal estilo colesterol': {'Price': 1925}, 'Pasta': {'Espaguetis napolitanos ': {'Price': 925}, 'Espaguetis con JamÃ³n ': {'Price': 1145}, 'Espaguetis a la BoloÃ±esa ': {'Price': 1800}, 'Espaguetis al Pesto': {'Price': 1265}, 'Espaguetis Carbonara ': {'Price': 2475}, 'Espaguetis con frutos de Mar': {'Price': 3750}, 'LasaÃ±a boloÃ±esa ': {'Price': 2245}}, 'Pizza': {'Pizza Margarita 5.1 ': {'Price': 1930}, 'Pizza de JamÃ³n': {'Price': 2115}, 'Pizza hawaiana': {'Price': 2215}, 'Pizza de Bacon, Pepperoni y JamÃ³n Serrano': {'Price': 2845}, 'Pizza Campesina': {'Price': 2645}, 'Pizza Marinera': {'Price': 3020}}, 'Pork': {'Masa de Cerdo Frita': {'Price': 2725}, 'Bistec Uruguayo ': {'Price': 2995}, 'Chuleta de Cerdo en Salsa Agridulce': {'Price': 3200}}, 'Chicken': {'Bistec Suprema ': {'Price': 2460}}, 'Beef': {'Ropa Vieja Res': {'Price': 2190}, 'vaca frita': {'Price': 2190}, 'Brocheta Mixta': {'Price': 2600}}, 'Sea': {'Enchilado de Cangrejo': {'Price': 1005}, 'Enchilado de Langosta': {'Price': 3030}, 'Mariscada estelares 5.1': {'Price': 3800}, 'Pescado Enchilado': {'Price': 2600}, 'Filete de Pescado Grille': {'Price': 3625}, 'Filete de Pescado Canciller ': {'Price': 3675}, 'Arroz con Artistage ': {'Price': 2800}}, 'Extras': [None]}, 'Desserts': {'Churros con leche condensada ': {'Price': 300}, 'Tocinillo': {'Price': 300}, 'Sunday': {'Price': 470}, 'Churros acompaÃ±ado de chocolate caliente': {'Price': 700}}, 'Beverages': {'Base chelada': {'Price': 170}, 'Base Michelada': {'Price': 220}, 'Caipiroska': {'Price': 495}, 'CaipiriÃ±a': {'Price': 495}, 'Cubata': {'Price': 550}, 'Cuba Libre': {'Price': 550}, 'Daikiri Floridita': {'Price': 600}, 'Tinto Verano': {'Price': 600}, 'GynTonic': {'Price': 650}, 'Canchanchara': {'Price': 660}, 'PiÃ±a colada': {'Price': 660}, 'Mojito': {'Price': 720}, 'SangrÃ\\xada Especial 5.1': {'Price': 720}, 'CafÃ© express': {'Price': 250}, 'frapuccino': {'Price': 450}, 'Agua Mineral': {'Price': 190}, 'Jugos de frutas': {'Price': 300}, 'Jugos de cajita': {'Price': 340}, 'batidos de frutas': {'Price': 495}, 'Malta': {'Price': 420}, 'Malteada': {'Price': 545}, 'Refresco de lata': {'Price': 350}, 'Refresco pepsi': {'Price': 420}, 'Refresco Seven Up': {'Price': 420}, 'Suero de helado': {'Price': 610}, 'energizante': {'Price': 360}, 'Cerveza Nacional': {'Price': 480}, 'Cerveza Importada': {'Price': 380}}, 'most_sold': {'Dish': ['ropa vieja', 'chuleta'], 'Drink': ['cerveza']}, 'least_sold': {'Dish': ['brocheta'], 'Drink': [None]}}\n",
      "[]\n",
      "nan\n"
     ]
    },
    {
     "name": "stderr",
     "output_type": "stream",
     "text": [
      "c:\\Users\\toshiba\\AppData\\Local\\Programs\\Python\\Python311\\Lib\\site-packages\\numpy\\_core\\fromnumeric.py:3904: RuntimeWarning: Mean of empty slice.\n",
      "  return _methods._mean(a, axis=axis, dtype=dtype,\n",
      "c:\\Users\\toshiba\\AppData\\Local\\Programs\\Python\\Python311\\Lib\\site-packages\\numpy\\_core\\_methods.py:147: RuntimeWarning: invalid value encountered in scalar divide\n",
      "  ret = ret.dtype.type(ret / rcount)\n"
     ]
    }
   ],
   "source": [
    "js = \"Marianao\"\n",
    "Marianao = []\n",
    "for file in os.listdir(js):        \n",
    "    if file.endswith(\".json\"):\n",
    "        rute = os.path.join(js, file)            \n",
    "        with open(rute) as j:\n",
    "            data = json.load(j)\n",
    "            Marianao.append(data)\n",
    "for i in Marianao:\n",
    "    for o in i.items():\n",
    "         list.append(o)\n",
    "print(len(list))\n",
    "\n",
    "ln = len(list)\n",
    "ln\n",
    "l = []\n",
    "lg = len(l)\n",
    "\n",
    "for n in range(8, ln):\n",
    "    if n == 8 or (n -8) % 10 == 0:\n",
    "        y = list[n]\n",
    "        for x in y:\n",
    "            l.append(x)\n",
    "print(l)\n",
    "media = []\n",
    "\n",
    "for m in range(0, 6):\n",
    "    if m % 2 != 0:\n",
    "        z = l[m]\n",
    "        print(z)\n",
    "        \n",
    "print(media)\n",
    "median = np.median(media)\n",
    "print(median)         \n",
    "            \n",
    "       \n",
    "\n",
    "\n",
    "    \n",
    "\n",
    "\n",
    "\n",
    "\n"
   ]
  },
  {
   "cell_type": "code",
   "execution_count": 9,
   "metadata": {},
   "outputs": [],
   "source": [
    "for m in range(0, lg):\n",
    "    if n % 2 != 0:\n",
    "        z = l[n]\n",
    "        for k in z:\n",
    "            print(k)"
   ]
  }
 ],
 "metadata": {
  "kernelspec": {
   "display_name": "Python 3",
   "language": "python",
   "name": "python3"
  },
  "language_info": {
   "codemirror_mode": {
    "name": "ipython",
    "version": 3
   },
   "file_extension": ".py",
   "mimetype": "text/x-python",
   "name": "python",
   "nbconvert_exporter": "python",
   "pygments_lexer": "ipython3",
   "version": "3.11.7"
  }
 },
 "nbformat": 4,
 "nbformat_minor": 2
}
